{
 "cells": [
  {
   "cell_type": "markdown",
   "metadata": {
    "colab_type": "text",
    "id": "jwNQo_EU90lg"
   },
   "source": [
    "<img src=\"http://www.exalumnos.usm.cl/wp-content/uploads/2015/06/Isotipo-Negro.gif\" title=\"Title text\" width=\"20%\" height=\"20%\" />\n",
    "\n",
    "\n",
    "<hr style=\"height:2px;border:none\"/>\n",
    "<h1 align='center'> INF-393 Máquinas de Aprendizaje II-2019 </h1>\n",
    "\n",
    "<H3 align='center'> Tarea 0 - Introducción a Máquinas de Aprendizaje </H3>\n",
    "<H3 align='center'> Integrantes: Roberto Calfulef - Matias Moreno </H3>\n",
    "<hr style=\"height:2px;border:none\"/>\n",
    "\n",
    "**Temas**  \n",
    "* Introducción a librerías comunes de *Machine Learning*:\n",
    "    * Pandas\n",
    "    * Numpy\n",
    "    * Sklearn\n",
    "    * Matplotlib\n",
    "    * Otro..\n",
    "* Implementación de Perceptrón y variantes.\n",
    "* Implementación de método aprendizaje online (Gradiente descendente).\n",
    " \n",
    "\n",
    "** Formalidades **  \n",
    "* Equipos de trabajo de: 2 personas\n",
    "* Se debe preparar un (breve) Jupyter/IPython notebook que explique la actividad realizada y las conclusiones del trabajo\n",
    "* Fecha de entrega: 6 de Septiembre.\n",
    "* Formato de entrega: envı́o de link Github al correo electrónico del ayudante (*<francisco.mena.13@sansano.usm.cl>*) , incluyendo al profesor en copia (*<jnancu@inf.utfsm.cl>*). Por favor especificar el siguiente asunto: [Tarea0-INF393-II-2019]\n",
    "\n",
    "<hr style=\"height:2px;border:none\"/>\n",
    "\n",
    "La tarea se divide en secciones:\n",
    "\n",
    "[1.](#primero) Perceptrón a mano\n",
    "\n",
    "<hr style=\"height:2px;border:none\"/>"
   ]
  },
  {
   "cell_type": "code",
   "execution_count": 1,
   "metadata": {
    "colab": {},
    "colab_type": "code",
    "id": "fNi5vrFS90ln"
   },
   "outputs": [],
   "source": [
    "#librerias a utilizar\n",
    "\n",
    "import numpy.matlib \n",
    "import numpy as np \n",
    "import matplotlib.pyplot as plt"
   ]
  },
  {
   "cell_type": "markdown",
   "metadata": {
    "colab_type": "text",
    "id": "9KbA4c1fAeiS"
   },
   "source": [
    "a) Escriba una función que calcule el valor de salida (*output*) del modelo $f(x)$ para un patrón de entrada $x$ a través de los pesos $w$ del modelo. *Decida si incluir los bias dentro de $w$ o manejarlos de manera separada*."
   ]
  },
  {
   "cell_type": "code",
   "execution_count": 2,
   "metadata": {
    "colab": {},
    "colab_type": "code",
    "id": "BMWpl3vQ90lz"
   },
   "outputs": [],
   "source": [
    "#Input:\n",
    "# X = vector de caracteristicas\n",
    "# W = vector de pesos\n",
    "# b = bias\n",
    "\n",
    "#Output:\n",
    "# 0 o 1 \n",
    "\n",
    "def perceptron(X,W,b):\n",
    "    dot =  np.dot(X,W) - b\n",
    "    if(dot > 0):\n",
    "        return 1\n",
    "    return 0 "
   ]
  },
  {
   "cell_type": "markdown",
   "metadata": {
    "colab_type": "text",
    "id": "L2XOovQRA5I4"
   },
   "source": [
    "b) Escriba una función que implemente el clásico algoritmo del **Perceptrón** para un problema binario que permita entrenarlo en un conjunto de datos de tamaño $N$, leídos de manera *online* (uno a uno). *Recordar la decisión anterior sobre los bias*."
   ]
  },
  {
   "cell_type": "code",
   "execution_count": 3,
   "metadata": {
    "colab": {},
    "colab_type": "code",
    "id": "gwC4JaXl90mC"
   },
   "outputs": [],
   "source": [
    "#Input:\n",
    "# X = conjunto de entrada\n",
    "# Y = conjunto de salida\n",
    "# W = vector de pesos inicial\n",
    "# b = bias\n",
    "\n",
    "#Output:\n",
    "# Vector de pesos \n",
    "\n",
    "l_accuracy = list()\n",
    "def perceptron_clasico(X,Y,W,b):\n",
    "    i=0\n",
    "    for vector in X:\n",
    "        resultado = perceptron(vector,W,b)\n",
    "        error = Y[i]-resultado\n",
    "        i = i+1\n",
    "        if error != 0:\n",
    "            W += np.multiply(vector,error*.1)\n",
    "            aciertos = 0\n",
    "            for j in range(len(Y20)):\n",
    "                test = perceptron(X_train20[j],W,b)\n",
    "                if Y20[j] == test:\n",
    "                    aciertos = aciertos+1\n",
    "            l_accuracy.append(aciertos/len(Y20)*100)\n",
    "    return W"
   ]
  },
  {
   "cell_type": "markdown",
   "metadata": {
    "colab_type": "text",
    "id": "kUtTp7QdBDJ2"
   },
   "source": [
    "c) Demuestre que lo implementado funciona en un problema real de clasificación. Para esto utilice el dataset **Breast cancer wisconsin**, disponible a través de la librería __[*sklearn*](http://scikit-learn.org)__, el cual corresponde a la detección de cancer mamario a través de características relevantes (numéricas continuas) de un examen realizado, como por ejemplo la textura, simetría y tamaño de una masa mamaria. Estas características deben combinarse linealmente para la detección del cancer."
   ]
  },
  {
   "cell_type": "code",
   "execution_count": 4,
   "metadata": {
    "colab": {
     "base_uri": "https://localhost:8080/",
     "height": 306
    },
    "colab_type": "code",
    "id": "0QJvkzbG90mK",
    "outputId": "db431e03-2a5d-4a41-8e8f-1d4c1a548721"
   },
   "outputs": [
    {
     "name": "stdout",
     "output_type": "stream",
     "text": [
      "Porcentaje de acierto:  95.57522123893806 %\n"
     ]
    },
    {
     "data": {
      "text/plain": [
       "[<matplotlib.lines.Line2D at 0x2530e980828>]"
      ]
     },
     "execution_count": 4,
     "metadata": {},
     "output_type": "execute_result"
    },
    {
     "data": {
      "image/png": "[encoded data removed]",
      "text/plain": [
       "<Figure size 432x288 with 1 Axes>"
      ]
     },
     "metadata": {
      "needs_background": "light"
     },
     "output_type": "display_data"
    }
   ],
   "source": [
    "from random import randrange\n",
    "from sklearn.preprocessing import StandardScaler\n",
    "from sklearn.datasets import load_breast_cancer\n",
    "X_train,y_train = load_breast_cancer(return_X_y=True)\n",
    "\n",
    "scaler = StandardScaler().fit(X_train)\n",
    "X_train = scaler.transform(X_train)\n",
    "#X_train = np.c_[X_train, np.ones(N) ] #add columns of 1's if you want\n",
    "\n",
    "random = set()\n",
    "n_datos = len(y_train)\n",
    "#n_datos.add(elemento)\n",
    "while len(random) < 0.8*n_datos:\n",
    "    random.add(randrange(n_datos))\n",
    "\n",
    "X_train80 = list()\n",
    "X_train20 = list()\n",
    "Y80 = list()\n",
    "Y20 = list()\n",
    "\n",
    "#Separo el set de datos en proporcion 80 y 20\n",
    "for j in range(len(X_train)):\n",
    "    if j in random:\n",
    "        X_train80.append(X_train[j])\n",
    "        Y80.append(y_train[j])\n",
    "    else:\n",
    "        X_train20.append(X_train[j])\n",
    "        Y20.append(y_train[j])\n",
    "        \n",
    "Wcero = np.zeros(len(X_train[0]))  # Vector de pesos con ceros \n",
    "Resultado = perceptron_clasico(X_train80,Y80,Wcero,0)\n",
    "\n",
    "aciertos = 0\n",
    "\n",
    "for i in range(len(Y20)):\n",
    "    test = perceptron(X_train20[i],Resultado,0)\n",
    "    if Y20[i] == test:\n",
    "        aciertos = aciertos+1\n",
    "\n",
    "print (\"Porcentaje de acierto: \",aciertos/len(Y20)*100,\"%\")\n",
    "#print (l_accuracy)\n",
    "plt.plot(l_accuracy)"
   ]
  },
  {
   "cell_type": "markdown",
   "metadata": {
    "colab_type": "text",
    "id": "ca9MPVAx90mU"
   },
   "source": [
    ">Al usar el algoritmo, el porcentaje de acierto ronda entre 93% a 95% con un training set de 80% de los datos elegidos aleatoriamente. Lo cual podriamos decir que es un clasificador decente y tiene pocos errores, por lo tanto el algoritmo hace su trabajo."
   ]
  },
  {
   "cell_type": "markdown",
   "metadata": {
    "colab_type": "text",
    "id": "6H9NlSIF90mW"
   },
   "source": [
    "d) Escriba una función que implemente el **Forgetrón** [[3]](#refs) con una memoria de tamaño $K$ y la función de kernel como el producto interno (*inner-product*), esto es $<a,b> = \\sum_i a_i \\cdot b_i$.\n",
    "\n"
   ]
  },
  {
   "cell_type": "code",
   "execution_count": 5,
   "metadata": {
    "colab": {},
    "colab_type": "code",
    "id": "SBaCGOoV90mY"
   },
   "outputs": [],
   "source": [
    "#Creo una Cola tipo FIFO de tamaño K\n",
    "from collections import deque\n",
    "K = 10\n",
    "#K_memory = collections.deque(K*[0], K)\n",
    "K_memory = deque(K*[-1], K) #Lista donde se guardan los indices de los errores\n",
    "\n",
    "def forgetron(X,W,b):\n",
    "    suma = 0\n",
    "    #print(K_memory)\n",
    "    for i in K_memory:\n",
    "        if i>=0:  # si el indice existe en la memoria, este sera positivo\n",
    "            if Y80[i] == 0:\n",
    "                Y_ = -1\n",
    "            else:\n",
    "                Y_ = 1\n",
    "            suma = suma + Y_*np.dot(X,X_train80[i])\n",
    "    if(suma > 0):\n",
    "        return 1\n",
    "    return 0 \n",
    "\n",
    "def perceptron_forgetron(X,Y,W,b):\n",
    "    i=0\n",
    "    for indice in range(len(X)):\n",
    "        resultado = forgetron(X[indice],W,b)\n",
    "        error = Y[i]-resultado\n",
    "        if error != 0:\n",
    "            K_memory.appendleft(indice)\n",
    "            potencia = 1\n",
    "            for j in K_memory:\n",
    "                if j > 0:\n",
    "                    W += np.multiply(X[j],error*.1**(potencia))\n",
    "                potencia = potencia + 1\n",
    "        i = i+1\n",
    "    return W\n"
   ]
  },
  {
   "cell_type": "markdown",
   "metadata": {
    "colab_type": "text",
    "id": "NjTyDh-xBdXK"
   },
   "source": [
    " e) Vuelva a realizar el item c) para el **Forgetrón** con un $K=10$ y compare los resultados."
   ]
  },
  {
   "cell_type": "code",
   "execution_count": 6,
   "metadata": {
    "colab": {
     "base_uri": "https://localhost:8080/",
     "height": 36
    },
    "colab_type": "code",
    "id": "kE9aheNqBhhx",
    "outputId": "312a90b5-9241-4e14-853f-d9e5868e32d4"
   },
   "outputs": [
    {
     "name": "stdout",
     "output_type": "stream",
     "text": [
      "Porcentaje de acierto:  96.46017699115043 %\n"
     ]
    }
   ],
   "source": [
    "\n",
    "pesos = np.zeros(len(X_train[0]))\n",
    "Resultado = perceptron_forgetron(X_train80,Y80,pesos,0)\n",
    "\n",
    "aciertos = 0\n",
    "\n",
    "for i in range(len(Y20)):\n",
    "    test = perceptron(X_train20[i],Resultado,0)\n",
    "    if Y20[i] == test:\n",
    "        aciertos = aciertos+1\n",
    "\n",
    "print (\"Porcentaje de acierto: \",aciertos/len(Y20)*100,\"%\")"
   ]
  },
  {
   "cell_type": "markdown",
   "metadata": {
    "colab_type": "text",
    "id": "ngfChyML90mf"
   },
   "source": [
    ">Usando el algoritmo modificado, el Forgetrón. El porcentaje de acierto sube, de 95 a un 96%."
   ]
  },
  {
   "cell_type": "markdown",
   "metadata": {
    "colab_type": "text",
    "id": "Ie0m5EnxB6Hk"
   },
   "source": [
    "f) Escriba una función que compute la función sigmoidal para una entrada $\\xi$ cualquiera. *Tenga cuidado con los límites de números que puede trabajar python (por ejemplo $\\exp{800}\\rightarrow +\\infty$)*. *Se aconseja acotar/truncar los valores que entran a la función para que la operación se pueda realizar*. Además escriba una función que calcule la salida del nuevo modelo $g(x; w,b)$ con esta función sigmoidal."
   ]
  },
  {
   "cell_type": "code",
   "execution_count": 7,
   "metadata": {
    "colab": {},
    "colab_type": "code",
    "id": "5f_3iaTx90mi"
   },
   "outputs": [],
   "source": [
    "def sigmoidal(E):\n",
    "    if E > 800:\n",
    "        return 1.0\n",
    "    elif E < -800:\n",
    "        return 0.0\n",
    "    return round(1/(1+np.exp(-1*E)),2)\n"
   ]
  },
  {
   "cell_type": "code",
   "execution_count": 8,
   "metadata": {
    "colab": {},
    "colab_type": "code",
    "id": "8KPgs0nx90ms"
   },
   "outputs": [],
   "source": [
    "def perceptron_continuo(X,W,b):\n",
    "    res = np.dot(X,W) - b\n",
    "    res = sigmoidal(res) \n",
    "    return res"
   ]
  },
  {
   "cell_type": "markdown",
   "metadata": {
    "colab_type": "text",
    "id": "PcnbHlqF90mx"
   },
   "source": [
    "g) Escriba una función que calcule la función de pérdida descrita anteriormente para un dato $x^{(i)}$, utilizando $g(x^{(i)};w,b)$. *Tenga cuidado con los límites del logaritmo (recordad que $\\log{0}\\rightarrow +\\infty$)*.\n",
    "\n",
    "$$\n",
    "\\ell (y, \\ g(x;w,b)) = - y \\cdot \\log{(g(x;w,b))} - (1-y) \\cdot \\log{(1-g(x;w,b))}\n",
    "$$"
   ]
  },
  {
   "cell_type": "code",
   "execution_count": 9,
   "metadata": {
    "colab": {},
    "colab_type": "code",
    "id": "7EaVvQ4v90m0"
   },
   "outputs": [],
   "source": [
    "def perdida(X,W,b,y):\n",
    "    temp = perceptron_continuo(X,W,b)\n",
    "    if temp == 0:\n",
    "        return -1\n",
    "    return round(- y * np.log(temp) - (1-y)*np.log(1-temp),2)"
   ]
  },
  {
   "cell_type": "markdown",
   "metadata": {
    "colab_type": "text",
    "id": "jcEZEYXNCRk7"
   },
   "source": [
    "h) Escriba una función que calcule el gradiente (derivada) de la función de pérdida anterior con respecto a los pesos del modelo $w$. *Se recomienda derivarla analíticamente y luego escribirla*. *Recuerde el uso de la regla de la cadena*."
   ]
  },
  {
   "cell_type": "code",
   "execution_count": 10,
   "metadata": {
    "colab": {},
    "colab_type": "code",
    "id": "JJEL0ulHCScB"
   },
   "outputs": [],
   "source": [
    "def gradiente(X,Y,W,b):\n",
    "    sum =  (np.dot(X,W)-b)\n",
    "    sig = sigmoidal(sum)\n",
    "    return np.multiply(X,(sig- Y))"
   ]
  },
  {
   "cell_type": "markdown",
   "metadata": {
    "colab_type": "text",
    "id": "xVEpcdKDCS9B"
   },
   "source": [
    "i) Realice una modificación al algoritmo implementado en b) (**Perceptrón**) para que se adapte a la función objetivo *binary cross entropy* implementada, para ésto haga uso del algoritmo de optimización SGD [[4]](#refs) (*Stochastic Gradient Descend*) con tasa de aprendizaje $\\eta \\in [0,1]$.\n",
    "\n",
    "$$ \\vec{w}^{(t+1)} \\leftarrow \\vec{w}^{(t)} - \\eta \\cdot \\nabla_{\\vec{w}^{(t)}} \\ell $$"
   ]
  },
  {
   "cell_type": "code",
   "execution_count": 11,
   "metadata": {
    "colab": {},
    "colab_type": "code",
    "id": "Y-3Q8cljCVcU"
   },
   "outputs": [],
   "source": [
    "l_accuracy = list()\n",
    "def perceptron_gradiente(X,Y,W,b):\n",
    "    i=0\n",
    "    for vector in X:\n",
    "        resultado = perceptron(vector,W,b)\n",
    "        error = Y[i]-resultado\n",
    "        i = i+1\n",
    "        if error != 0:\n",
    "            W = W - np.multiply(gradiente(vector,Y[i],W,b), .1 * perdida(vector,W,b,Y[i])) # vector gradiente * tasa aprendizaje * funcion perdida\n",
    "            aciertos = 0\n",
    "            for j in range(len(Y20)):\n",
    "                test = perceptron(X_train20[j],W,b)\n",
    "                if Y20[j] == test:\n",
    "                    aciertos = aciertos+1\n",
    "            l_accuracy.append(aciertos/len(Y20)*100)\n",
    "    return W"
   ]
  },
  {
   "cell_type": "markdown",
   "metadata": {
    "colab_type": "text",
    "id": "zKo1kzyvCVks"
   },
   "source": [
    "j) Vuelva a realizar el item c) con esta modificación, además grafique la función de pérdida en el transcurso del entrenamiento. Compare los resultados."
   ]
  },
  {
   "cell_type": "code",
   "execution_count": 14,
   "metadata": {
    "colab": {
     "base_uri": "https://localhost:8080/",
     "height": 306
    },
    "colab_type": "code",
    "id": "EJbLrUEaCXb8",
    "outputId": "e1218e41-66c3-42c5-a264-a31cf76a7f89"
   },
   "outputs": [
    {
     "name": "stdout",
     "output_type": "stream",
     "text": [
      "Porcentaje de acierto:  96.46017699115043 %\n"
     ]
    },
    {
     "data": {
      "text/plain": [
       "[<matplotlib.lines.Line2D at 0x2530ed6bac8>]"
      ]
     },
     "execution_count": 14,
     "metadata": {},
     "output_type": "execute_result"
    },
    {
     "data": {
      "image/png": "[encoded data removed]",
      "text/plain": [
       "<Figure size 432x288 with 1 Axes>"
      ]
     },
     "metadata": {
      "needs_background": "light"
     },
     "output_type": "display_data"
    }
   ],
   "source": [
    "Wcero = np.zeros(len(X_train[0]))  # Vector de pesos con ceros \n",
    "Resultado = perceptron_gradiente(X_train80,Y80,Wcero,0)\n",
    "\n",
    "aciertos = 0\n",
    "for i in range(len(Y20)):\n",
    "    test = perceptron(X_train20[i],Resultado,0)\n",
    "    if Y20[i] == test:\n",
    "        aciertos = aciertos+1\n",
    "\n",
    "print (\"Porcentaje de acierto: \",aciertos/len(Y20)*100,\"%\")\n",
    "plt.plot(l_accuracy)\n",
    "# plt.scatter(np.arange(len(l_accuracy)),l_accuracy)"
   ]
  },
  {
   "cell_type": "markdown",
   "metadata": {},
   "source": [
    ">Utilizando el algoritmo con las nuevas modificaciones, se logra un porcentaje de acierto de 96%."
   ]
  }
 ],
 "metadata": {
  "colab": {
   "collapsed_sections": [],
   "name": "Copia de tarea0.ipynb",
   "provenance": [],
   "version": "0.3.2"
  },
  "kernelspec": {
   "display_name": "Python 3",
   "language": "python",
   "name": "python3"
  },
  "language_info": {
   "codemirror_mode": {
    "name": "ipython",
    "version": 3
   },
   "file_extension": ".py",
   "mimetype": "text/x-python",
   "name": "python",
   "nbconvert_exporter": "python",
   "pygments_lexer": "ipython3",
   "version": "3.7.1"
  }
 },
 "nbformat": 4,
 "nbformat_minor": 1
}
